{
 "cells": [
  {
   "cell_type": "markdown",
   "metadata": {},
   "source": [
    "# Import libraries and setup matplotlib"
   ]
  },
  {
   "cell_type": "code",
   "execution_count": 1,
   "metadata": {
    "ExecuteTime": {
     "end_time": "2020-01-09T06:41:54.248344Z",
     "start_time": "2020-01-09T06:41:52.578957Z"
    }
   },
   "outputs": [],
   "source": [
    "import os\n",
    "os.environ[\"CUDA_VISIBLE_DEVICES\"] = '2'\n",
    "\n",
    "import warnings\n",
    "warnings.filterwarnings(\"ignore\")\n",
    "\n",
    "import sys\n",
    "sys.path.append('waveglow/')\n",
    "\n",
    "import matplotlib.pyplot as plt\n",
    "%matplotlib inline\n",
    "\n",
    "import IPython.display as ipd\n",
    "import pickle as pkl\n",
    "from text import *\n",
    "import numpy as np\n",
    "import torch\n",
    "import hparams\n",
    "from model import Model\n",
    "from denoiser import Denoiser"
   ]
  },
  {
   "cell_type": "markdown",
   "metadata": {},
   "source": [
    "# Load model from checkpoint"
   ]
  },
  {
   "cell_type": "markdown",
   "metadata": {},
   "source": [
    "### 1. TTS model"
   ]
  },
  {
   "cell_type": "code",
   "execution_count": null,
   "metadata": {
    "ExecuteTime": {
     "end_time": "2020-01-09T06:41:57.149055Z",
     "start_time": "2020-01-09T06:41:54.249587Z"
    },
    "scrolled": true
   },
   "outputs": [],
   "source": [
    "checkpoint_path = \"\"\n",
    "\n",
    "model = Model(hparams).cuda()\n",
    "model.load_state_dict(torch.load(checkpoint_path)['state_dict'])\n",
    "_ = model.cuda().eval()"
   ]
  },
  {
   "cell_type": "markdown",
   "metadata": {},
   "source": [
    "### 2. WaveGlow"
   ]
  },
  {
   "cell_type": "code",
   "execution_count": null,
   "metadata": {
    "ExecuteTime": {
     "end_time": "2020-01-09T06:41:58.363127Z",
     "start_time": "2020-01-09T06:41:57.150372Z"
    }
   },
   "outputs": [],
   "source": [
    "waveglow_path = f'{hparams.output_directory}/waveglow_256channels.pt'\n",
    "waveglow = torch.load(waveglow_path)['model']\n",
    "\n",
    "for m in waveglow.modules():\n",
    "    if 'Conv' in str(type(m)):\n",
    "        setattr(m, 'padding_mode', 'zeros')\n",
    "\n",
    "waveglow.cuda().eval()\n",
    "for k in waveglow.convinv:\n",
    "    k.float()\n",
    "\n",
    "denoiser = Denoiser(waveglow)"
   ]
  },
  {
   "cell_type": "markdown",
   "metadata": {},
   "source": [
    "# Speech Synthesis"
   ]
  },
  {
   "cell_type": "code",
   "execution_count": null,
   "metadata": {
    "ExecuteTime": {
     "end_time": "2020-01-09T06:41:58.435681Z",
     "start_time": "2020-01-09T06:41:58.364434Z"
    }
   },
   "outputs": [],
   "source": [
    "with open('filelists/ljs_audio_text_val_filelist.txt', 'r') as f:\n",
    "    lines = [line.split('|') for line in f.read().splitlines()]\n",
    "\n",
    "file_name, _, text = lines[1]\n",
    "sequence = np.array(text_to_sequence(text, ['english_cleaners']))[None, :]\n",
    "sequence = torch.autograd.Variable(torch.from_numpy(sequence)).cuda().long()"
   ]
  },
  {
   "cell_type": "code",
   "execution_count": null,
   "metadata": {
    "ExecuteTime": {
     "end_time": "2020-01-09T06:42:07.700750Z",
     "start_time": "2020-01-09T06:41:58.436799Z"
    },
    "scrolled": false
   },
   "outputs": [],
   "source": [
    "with torch.no_grad():\n",
    "    melspec, alignments = model.inference(sequence, max_len=768)\n",
    "    melspec = torch.log(10**(melspec / 10))\n",
    "    audio = waveglow.infer(melspec, sigma=0.666)\n",
    "    \n",
    "\n",
    "print(\"Text:\")\n",
    "print(text)\n",
    "print()\n",
    "\n",
    "print(\"Audio:\")\n",
    "audio_denoised = denoiser(audio, strength=0.01)[:, 0]\n",
    "ipd.display(ipd.Audio(audio_denoised.cpu().numpy(),\n",
    "                      rate=hparams.sampling_rate))\n",
    "print()\n",
    "\n",
    "print(\"Melspectrogram:\")\n",
    "plt.figure(figsize=(16, 4))\n",
    "plt.imshow(melspec[0].cpu().numpy(),\n",
    "           aspect='auto',\n",
    "           origin='bottom',\n",
    "           interpolation='none')\n",
    "plt.show()\n",
    "print()\n",
    "\n",
    "\n",
    "print(\"Alignments:\")\n",
    "fig, axes = plt.subplots(6, 2, figsize=(20,60))\n",
    "for i in range(6):\n",
    "    for j in [0, 1]:\n",
    "        axes[i, j].imshow(alignments[i, j, :melspec.size(2)].cpu().numpy().T,\n",
    "                          aspect='auto',\n",
    "                          origin='bottom',\n",
    "                          interpolation='none')\n",
    "        axes[i, j].set_title(f'Layer: {i} / Head: {j}', fontsize=15)\n",
    "\n",
    "plt.show()"
   ]
  }
 ],
 "metadata": {
  "kernelspec": {
   "display_name": "Python 3",
   "language": "python",
   "name": "python3"
  },
  "language_info": {
   "codemirror_mode": {
    "name": "ipython",
    "version": 3
   },
   "file_extension": ".py",
   "mimetype": "text/x-python",
   "name": "python",
   "nbconvert_exporter": "python",
   "pygments_lexer": "ipython3",
   "version": "3.7.5"
  },
  "varInspector": {
   "cols": {
    "lenName": 16,
    "lenType": 16,
    "lenVar": 40
   },
   "kernels_config": {
    "python": {
     "delete_cmd_postfix": "",
     "delete_cmd_prefix": "del ",
     "library": "var_list.py",
     "varRefreshCmd": "print(var_dic_list())"
    },
    "r": {
     "delete_cmd_postfix": ") ",
     "delete_cmd_prefix": "rm(",
     "library": "var_list.r",
     "varRefreshCmd": "cat(var_dic_list()) "
    }
   },
   "types_to_exclude": [
    "module",
    "function",
    "builtin_function_or_method",
    "instance",
    "_Feature"
   ],
   "window_display": false
  }
 },
 "nbformat": 4,
 "nbformat_minor": 2
}
