{
 "cells": [
  {
   "cell_type": "markdown",
   "metadata": {},
   "source": [
    "# Notice!!!  \n",
    "When converting wav files into melspectrograms in line with [WaveGlow](https://github.com/NVIDIA/WaveGlow), trained model didn't generate appropriate speech.  \n",
    "Therefore, the wav files are converted into melspectrograms using `librosa.core.power_to_db()` instead of `torch.log()`.  \n",
    "So, when you generate a wav using `WaveGlow`, you should change the generated melspectrogram as follow:\n",
    "```python\n",
    "melspec = model.inference(sequence)\n",
    "melspec = torch.log(10**(melspec / 10))\n",
    "audio = waveglow.inference(melspec)\n",
    "```"
   ]
  },
  {
   "cell_type": "markdown",
   "metadata": {},
   "source": [
    "### Import libraries, metadata"
   ]
  },
  {
   "cell_type": "code",
   "execution_count": null,
   "metadata": {
    "ExecuteTime": {
     "end_time": "2019-12-18T06:01:56.263558Z",
     "start_time": "2019-12-18T06:01:51.717351Z"
    }
   },
   "outputs": [],
   "source": [
    "import hparams as hp\n",
    "import os\n",
    "import librosa\n",
    "from librosa.filters import mel as librosa_mel_fn\n",
    "from audio_processing import *\n",
    "import numpy as np\n",
    "import pickle as pkl\n",
    "from text import *\n",
    "import IPython.display as ipd\n",
    "from tqdm.notebook import tqdm\n",
    "from stft import STFT\n",
    "import matplotlib.pyplot as plt\n",
    "import torch\n",
    "import random\n",
    "import pandas as pd\n",
    "import matplotlib.pyplot as plt\n",
    "%matplotlib inline\n",
    "\n",
    "\n",
    "csv_file = f'{hp.data_path}/metadata.csv'\n",
    "root_dir = f'{hp.data_path}/wavs'\n",
    "save_dir = f'{hp.data_path}/preprocessed'\n",
    "landmarks_frame = pd.read_csv(csv_file, sep='|', header=None)"
   ]
  },
  {
   "cell_type": "markdown",
   "metadata": {},
   "source": [
    "### STFT"
   ]
  },
  {
   "cell_type": "code",
   "execution_count": null,
   "metadata": {
    "ExecuteTime": {
     "end_time": "2019-12-18T06:01:56.298566Z",
     "start_time": "2019-12-18T06:01:56.268021Z"
    },
    "code_folding": []
   },
   "outputs": [],
   "source": [
    "class TacotronSTFT(torch.nn.Module):\n",
    "    def __init__(self,\n",
    "                 filter_length=1024,\n",
    "                 hop_length=256,\n",
    "                 win_length=1024,\n",
    "                 n_mel_channels=80,\n",
    "                 sampling_rate=22050, \n",
    "                 mel_fmin=0.0,\n",
    "                 mel_fmax=8000.0):\n",
    "        super(TacotronSTFT, self).__init__()\n",
    "        self.stft_fn = STFT(filter_length, hop_length, win_length)\n",
    "        mel_basis = librosa_mel_fn(sampling_rate,\n",
    "                                   filter_length,\n",
    "                                   n_mel_channels,\n",
    "                                   mel_fmin,\n",
    "                                   mel_fmax)\n",
    "        self.mel_basis = torch.from_numpy(mel_basis).float()\n",
    "\n",
    "    def wav_to_specs(self, y):\n",
    "        assert(torch.min(y.data) >= -1)\n",
    "        assert(torch.max(y.data) <= 1)\n",
    "\n",
    "        magnitudes, _ = self.stft_fn.transform(y)\n",
    "        mel_output = torch.matmul(self.mel_basis, magnitudes)\n",
    "        melspec = librosa.core.power_to_db(mel_output)\n",
    "        \n",
    "        return melspec\n",
    "\n",
    "stft = TacotronSTFT()"
   ]
  },
  {
   "cell_type": "markdown",
   "metadata": {},
   "source": [
    "### Others"
   ]
  },
  {
   "cell_type": "code",
   "execution_count": null,
   "metadata": {},
   "outputs": [],
   "source": [
    "def load_wav_to_torch(full_path):\n",
    "    wav, _ = librosa.load(full_path, sr=22050)\n",
    "    wav = wav / np.max( np.abs(wav) )\n",
    "    cut = np.where((abs(wav)>0.01))[0]\n",
    "    wav = wav[cut[0]:(cut[-1]+1)]\n",
    "    \n",
    "    return torch.FloatTensor(wav.astype(np.float32))\n",
    "\n",
    "\n",
    "def get_mel(filename):\n",
    "    wav = load_wav_to_torch(filename)\n",
    "    melspec = stft.wav_to_specs(wav.unsqueeze(0))\n",
    "    return torch.from_numpy(melspec.squeeze(0))\n",
    "\n",
    "\n",
    "def save_file(idx):\n",
    "    fname = landmarks_frame.iloc[idx, 0]\n",
    "    wav_name = os.path.join(root_dir, fname) + '.wav'\n",
    "    text= landmarks_frame.iloc[idx, 1]\n",
    "\n",
    "    seq = torch.LongTensor(text_to_sequence(text, ['english_cleaners']))\n",
    "    melspec = get_mel(wav_name)\n",
    "    \n",
    "    with open(f'{save_dir}/sequence/{fname}_sequence.pkl', 'wb') as f:\n",
    "        pkl.dump(seq, f)\n",
    "    with open(f'{save_dir}/melspectrogram/{fname}_melspectrogram.pkl', 'wb') as f:\n",
    "        pkl.dump(melspec, f)\n",
    "    \n",
    "    return text, seq, melspec"
   ]
  },
  {
   "cell_type": "markdown",
   "metadata": {},
   "source": [
    "### Save and Inspect Data"
   ]
  },
  {
   "cell_type": "code",
   "execution_count": null,
   "metadata": {
    "ExecuteTime": {
     "start_time": "2019-12-18T06:01:23.402Z"
    }
   },
   "outputs": [],
   "source": [
    "idx = 777\n",
    "for i in tqdm(range(len(landmarks_frame))):\n",
    "    text, seq, melspec = save_file(i)\n",
    "    if i==idx:\n",
    "        print(\"Text:\")\n",
    "        print(text)\n",
    "        print()\n",
    "        print()\n",
    "        print(\"Phoneme:\")\n",
    "        print(sequence_to_text(seq.tolist()))\n",
    "        print()\n",
    "        print()\n",
    "        print(\"Sequence:\")\n",
    "        print(seq)\n",
    "        print()\n",
    "        print()\n",
    "        print(\"Melspectrogram:\")\n",
    "        plt.figure(figsize=(16,4))\n",
    "        plt.imshow(melspec, aspect='auto', origin='lower')\n",
    "        plt.show()"
   ]
  }
 ],
 "metadata": {
  "kernelspec": {
   "display_name": "Python 3",
   "language": "python",
   "name": "python3"
  },
  "language_info": {
   "codemirror_mode": {
    "name": "ipython",
    "version": 3
   },
   "file_extension": ".py",
   "mimetype": "text/x-python",
   "name": "python",
   "nbconvert_exporter": "python",
   "pygments_lexer": "ipython3",
   "version": "3.7.5"
  },
  "varInspector": {
   "cols": {
    "lenName": 16,
    "lenType": 16,
    "lenVar": 40
   },
   "kernels_config": {
    "python": {
     "delete_cmd_postfix": "",
     "delete_cmd_prefix": "del ",
     "library": "var_list.py",
     "varRefreshCmd": "print(var_dic_list())"
    },
    "r": {
     "delete_cmd_postfix": ") ",
     "delete_cmd_prefix": "rm(",
     "library": "var_list.r",
     "varRefreshCmd": "cat(var_dic_list()) "
    }
   },
   "types_to_exclude": [
    "module",
    "function",
    "builtin_function_or_method",
    "instance",
    "_Feature"
   ],
   "window_display": false
  }
 },
 "nbformat": 4,
 "nbformat_minor": 2
}
