{
 "cells": [
  {
   "cell_type": "markdown",
   "metadata": {},
   "source": [
    "### Import libraries, metadata"
   ]
  },
  {
   "cell_type": "code",
   "execution_count": null,
   "metadata": {
    "ExecuteTime": {
     "end_time": "2019-12-18T06:01:56.263558Z",
     "start_time": "2019-12-18T06:01:51.717351Z"
    }
   },
   "outputs": [],
   "source": [
    "import os\n",
    "import librosa\n",
    "from librosa.filters import mel as librosa_mel_fn\n",
    "import pickle as pkl\n",
    "import IPython.display as ipd\n",
    "from tqdm.notebook import tqdm\n",
    "import torch\n",
    "import codecs\n",
    "import matplotlib.pyplot as plt\n",
    "%matplotlib inline\n",
    "\n",
    "from g2p_en import G2p\n",
    "from text import *\n",
    "from text import cmudict\n",
    "from text.cleaners import custom_english_cleaners\n",
    "from text.symbols import symbols\n",
    "\n",
    "# Mappings from symbol to numeric ID and vice versa:\n",
    "symbol_to_id = {s: i for i, s in enumerate(symbols)}\n",
    "id_to_symbol = {i: s for i, s in enumerate(symbols)}\n",
    "\n",
    "csv_file = '/media/disk1/lyh/LJSpeech-1.1/metadata.csv'\n",
    "root_dir = '/media/disk1/lyh/LJSpeech-1.1/wavs'\n",
    "data_dir = '/media/disk1/lyh/LJSpeech-1.1/espnet2'\n",
    "\n",
    "g2p = G2p()\n",
    "metadata={}\n",
    "with codecs.open(csv_file, 'r', 'utf-8') as fid:\n",
    "    for line in fid.readlines():\n",
    "        id, _, text = line.split(\"|\")\n",
    "        \n",
    "        clean_char = custom_english_cleaners(text.rstrip())\n",
    "        clean_phone = []\n",
    "        for s in g2p(clean_char.lower()):\n",
    "            if '@'+s in symbol_to_id:\n",
    "                clean_phone.append('@'+s)\n",
    "            else:\n",
    "                clean_phone.append(s)\n",
    "        \n",
    "        metadata[id]={'char':clean_char,\n",
    "                     'phone':clean_phone}"
   ]
  },
  {
   "cell_type": "code",
   "execution_count": null,
   "metadata": {
    "scrolled": true
   },
   "outputs": [],
   "source": [
    "def text2seq(text):\n",
    "    sequence = [symbol_to_id[c] for c in text]\n",
    "    # Append EOS token\n",
    "    sequence.append(symbol_to_id['~'])\n",
    "    return sequence"
   ]
  },
  {
   "cell_type": "markdown",
   "metadata": {},
   "source": [
    "### STFT"
   ]
  },
  {
   "cell_type": "code",
   "execution_count": null,
   "metadata": {},
   "outputs": [],
   "source": [
    "def stft(x,\n",
    "         n_fft,\n",
    "         n_shift,\n",
    "         win_length,\n",
    "         window='hann',\n",
    "         center=True,\n",
    "         pad_mode='reflect'):\n",
    "    x = x.astype(np.float32)\n",
    "\n",
    "    # FIXME(kamo): librosa.stft can't use multi-channel?\n",
    "    # x: [Time, Channel, Freq]\n",
    "    x = librosa.stft(\n",
    "        x,\n",
    "        n_fft=n_fft,\n",
    "        hop_length=n_shift,\n",
    "        win_length=win_length,\n",
    "        window=window,\n",
    "        center=center,\n",
    "        pad_mode=pad_mode).T\n",
    "\n",
    "    return x\n",
    "\n",
    "def stft2logmelspectrogram(x_stft,\n",
    "                           fs,\n",
    "                           n_mels,\n",
    "                           n_fft,\n",
    "                           fmin=None,\n",
    "                           fmax=None,\n",
    "                           eps=1e-10):\n",
    "    # x_stft: (Time, Freq)\n",
    "    fmin = 0 if fmin is None else fmin\n",
    "    fmax = fs / 2 if fmax is None else fmax\n",
    "\n",
    "    spc = np.abs(x_stft)\n",
    "    mel_basis = librosa.filters.mel(fs, n_fft, n_mels, fmin, fmax)\n",
    "    lmspc = np.log10(np.maximum(eps, np.dot(mel_basis, spc.T)))\n",
    "\n",
    "    return lmspc\n",
    "\n",
    "def logmelspectrogram(x,\n",
    "                      fs=22050,\n",
    "                      n_mels=80,\n",
    "                      n_fft=1024,\n",
    "                      n_shift=256,\n",
    "                      win_length=None,\n",
    "                      window='hann',\n",
    "                      fmin=80,\n",
    "                      fmax=7600,\n",
    "                      eps=1e-10,\n",
    "                      pad_mode='reflect'):\n",
    "    # stft: (Time, Channel, Freq) or (Time, Freq)\n",
    "    x_stft = stft(x, n_fft=n_fft, n_shift=n_shift, win_length=win_length,\n",
    "                  window=window, pad_mode=pad_mode)\n",
    "\n",
    "    return stft2logmelspectrogram(x_stft,\n",
    "                                  fs=fs,\n",
    "                                  n_mels=n_mels,\n",
    "                                  n_fft=n_fft,\n",
    "                                  fmin=fmin,\n",
    "                                  fmax=fmax,\n",
    "                                  eps=eps)"
   ]
  },
  {
   "cell_type": "code",
   "execution_count": null,
   "metadata": {},
   "outputs": [],
   "source": [
    "from stft import STFT\n",
    "\n",
    "class TacotronSTFT(torch.nn.Module):\n",
    "    def __init__(self,\n",
    "                 filter_length=1024,\n",
    "                 hop_length=256,\n",
    "                 win_length=1024,\n",
    "                 n_mel_channels=80,\n",
    "                 sampling_rate=22050, \n",
    "                 mel_fmin=0.0,\n",
    "                 mel_fmax=8000.0):\n",
    "        super(TacotronSTFT, self).__init__()\n",
    "        self.stft_fn = STFT(filter_length, hop_length, win_length)\n",
    "        mel_basis = librosa_mel_fn(sampling_rate,\n",
    "                                   filter_length,\n",
    "                                   n_mel_channels,\n",
    "                                   mel_fmin,\n",
    "                                   mel_fmax)\n",
    "        self.mel_basis = torch.from_numpy(mel_basis).float()\n",
    "\n",
    "    def wav_to_specs(self, y):\n",
    "        assert(torch.min(y.data) >= -1)\n",
    "        assert(torch.max(y.data) <= 1)\n",
    "\n",
    "        magnitudes, _ = self.stft_fn.transform(y)\n",
    "        mel_output = torch.matmul(self.mel_basis, magnitudes)\n",
    "        melspec = torch.log(mel_output)\n",
    "        \n",
    "        return melspec\n",
    "\n",
    "stft = TacotronSTFT()"
   ]
  },
  {
   "cell_type": "code",
   "execution_count": null,
   "metadata": {},
   "outputs": [],
   "source": [
    "from kaldiio import ReadHelper\n",
    "\n",
    "datasets = ['char_train_no_dev', 'char_dev', 'char_eval']\n",
    "\n",
    "espnet = {}\n",
    "for dataset in datasets:\n",
    "    feat_path = f'/home/lyh/anaconda3/envs/espnet/egs/ljspeech/tts1/dump/{dataset}'\n",
    "    for i in range(1, 33):\n",
    "        with ReadHelper(f'ark:{feat_path}/feats.{i}.ark') as reader:\n",
    "            for a in reader:\n",
    "                espnet[a[0]]=a[1]"
   ]
  },
  {
   "cell_type": "markdown",
   "metadata": {},
   "source": [
    "### Others"
   ]
  },
  {
   "cell_type": "code",
   "execution_count": null,
   "metadata": {},
   "outputs": [],
   "source": [
    "def get_mel(filename):\n",
    "    wav, sr = librosa.load(filename, sr=22050)\n",
    "    melspec = logmelspectrogram(wav)\n",
    "    return torch.from_numpy(melspec), wav\n",
    "\n",
    "\n",
    "def save_file(fname):\n",
    "    wav_name = os.path.join(root_dir, fname) + '.wav'\n",
    "    text = metadata[fname]['char']\n",
    "    char_seq = torch.LongTensor( text2seq(metadata[fname]['char']) )\n",
    "    phone_seq = torch.LongTensor( text2seq(metadata[fname]['phone']) )\n",
    "    \n",
    "    melspec, wav = get_mel(wav_name)\n",
    "    #melspec = torch.from_numpy(espnet[fname].T)\n",
    "    \n",
    "    with open(f'{data_dir}/char_seq/{fname}_sequence.pkl', 'wb') as f:\n",
    "        pkl.dump(char_seq, f)\n",
    "    with open(f'{data_dir}/phone_seq/{fname}_sequence.pkl', 'wb') as f:\n",
    "        pkl.dump(phone_seq, f)\n",
    "    with open(f'{data_dir}/melspectrogram/{fname}_melspectrogram.pkl', 'wb') as f:\n",
    "        pkl.dump(melspec, f)\n",
    "    \n",
    "    return text, char_seq, phone_seq, melspec"
   ]
  },
  {
   "cell_type": "markdown",
   "metadata": {},
   "source": [
    "### Save and Inspect Data"
   ]
  },
  {
   "cell_type": "code",
   "execution_count": null,
   "metadata": {
    "ExecuteTime": {
     "start_time": "2019-12-18T06:01:23.402Z"
    },
    "scrolled": false
   },
   "outputs": [],
   "source": [
    "for k in tqdm(metadata.keys()):\n",
    "    text, char_seq, phone_seq, melspec = save_file(k)\n",
    "    if k == 'LJ001-0019':\n",
    "        print(\"Text:\")\n",
    "        print(text)\n",
    "        print()\n",
    "        print(\"Melspectrogram:\")\n",
    "        plt.figure(figsize=(16,4))\n",
    "        plt.imshow(melspec, aspect='auto', origin='lower')\n",
    "        plt.show()"
   ]
  }
 ],
 "metadata": {
  "kernelspec": {
   "display_name": "Python [conda env:LYH]",
   "language": "python",
   "name": "conda-env-LYH-py"
  },
  "language_info": {
   "codemirror_mode": {
    "name": "ipython",
    "version": 3
   },
   "file_extension": ".py",
   "mimetype": "text/x-python",
   "name": "python",
   "nbconvert_exporter": "python",
   "pygments_lexer": "ipython3",
   "version": "3.7.5"
  },
  "varInspector": {
   "cols": {
    "lenName": 16,
    "lenType": 16,
    "lenVar": 40
   },
   "kernels_config": {
    "python": {
     "delete_cmd_postfix": "",
     "delete_cmd_prefix": "del ",
     "library": "var_list.py",
     "varRefreshCmd": "print(var_dic_list())"
    },
    "r": {
     "delete_cmd_postfix": ") ",
     "delete_cmd_prefix": "rm(",
     "library": "var_list.r",
     "varRefreshCmd": "cat(var_dic_list()) "
    }
   },
   "types_to_exclude": [
    "module",
    "function",
    "builtin_function_or_method",
    "instance",
    "_Feature"
   ],
   "window_display": false
  }
 },
 "nbformat": 4,
 "nbformat_minor": 2
}
