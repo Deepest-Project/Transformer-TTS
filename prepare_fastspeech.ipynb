{
 "cells": [
  {
   "cell_type": "markdown",
   "metadata": {},
   "source": [
    "# Import libraries and setup"
   ]
  },
  {
   "cell_type": "code",
   "execution_count": null,
   "metadata": {
    "ExecuteTime": {
     "end_time": "2020-01-07T08:25:51.658843Z",
     "start_time": "2020-01-07T08:25:50.087910Z"
    }
   },
   "outputs": [],
   "source": [
    "import os\n",
    "os.environ[\"CUDA_VISIBLE_DEVICES\"]=''\n",
    "\n",
    "import warnings\n",
    "warnings.filterwarnings(\"ignore\")\n",
    "\n",
    "import sys\n",
    "sys.path.append('waveglow/')\n",
    "\n",
    "import matplotlib.pyplot as plt\n",
    "%matplotlib inline\n",
    "\n",
    "import IPython.display as ipd\n",
    "import pickle as pkl\n",
    "import torch\n",
    "import hparams\n",
    "from data_utils import TextMelLoader, TextMelCollate\n",
    "from torch.utils.data import DataLoader\n",
    "from model import Model\n",
    "from text import text_to_sequence, sequence_to_text\n",
    "from denoiser import Denoiser\n",
    "from tqdm import tqdm_notebook as tqdm\n",
    "import librosa\n",
    "\n",
    "checkpoint_path = \"\"\n",
    "\n",
    "model = Model(hparams).cuda()\n",
    "model.load_state_dict(torch.load(checkpoint_path)['state_dict'])\n",
    "_ = model.cuda().eval()"
   ]
  },
  {
   "cell_type": "markdown",
   "metadata": {},
   "source": [
    "# Data filtering"
   ]
  },
  {
   "cell_type": "code",
   "execution_count": null,
   "metadata": {
    "ExecuteTime": {
     "end_time": "2020-01-07T08:30:26.640927Z",
     "start_time": "2020-01-07T08:25:56.297340Z"
    },
    "scrolled": true
   },
   "outputs": [],
   "source": [
    "datasets = ['train', 'val', 'test']\n",
    "\n",
    "for dataset in datasets:\n",
    "    with open(f'filelists/ljs_audio_text_{dataset}_filelist.txt', 'r') as f:\n",
    "        lines = [line.split('|') for line in f.read().splitlines()]\n",
    "\n",
    "    for i in tqdm(range(len(lines))):\n",
    "        file_name, _, text = lines[i]\n",
    "        seq = os.path.join(f'{hparams.data_path}/preprocessed',\n",
    "                           'sequence')\n",
    "        mel = os.path.join(f'{hparams.data_path}/preprocessed',\n",
    "                           'melspectrogram')\n",
    "\n",
    "        with open(f'{seq}/{file_name}_sequence.pkl', 'rb') as f:\n",
    "            text_padded = pkl.load(f).unsqueeze(0)\n",
    "        with open(f'{mel}/{file_name}_melspectrogram.pkl', 'rb') as f:\n",
    "            mel_padded = pkl.load(f).unsqueeze(0)\n",
    "\n",
    "        text_lengths=torch.LongTensor([text_padded.size(1)])\n",
    "        mel_lengths=torch.LongTensor([mel_padded.size(2)])\n",
    "\n",
    "        _, melspec, alignments, _, _ = model(text_padded.cuda(), \n",
    "                                             mel_padded.cuda(), \n",
    "                                             text_lengths.cuda(),\n",
    "                                             mel_lengths.cuda())\n",
    "        melspec = melspec[0]\n",
    "        alignments = torch.cat(alignments, dim=0)\n",
    "        \n",
    "        F = torch.mean(torch.max(alignments, dim=-1)[0], dim=-1)\n",
    "        r, c = torch.argmax(F).item()//2, torch.argmax(F).item()%2\n",
    "        \n",
    "        location = torch.max(alignments[r,c], dim=1)[1]\n",
    "        diff = location[1:]-location[:-1]\n",
    "        valid_data = torch.all( (diff==-2)\n",
    "                               +(diff==-1)\n",
    "                               +(diff==0)\n",
    "                               +(diff==1)\n",
    "                               +(diff==2) )\n",
    "\n",
    "        \n",
    "        if valid_data:\n",
    "            with open(f'{hparams.teacher_path}/targets/{file_name}.pkl', 'wb') as f:\n",
    "                pkl.dump(melspec.detach().cpu(), f)\n",
    "            with open(f'{hparams.teacher_path}/alignments/{file_name}.pkl', 'wb') as f:\n",
    "                pkl.dump(alignments[r,c].detach().cpu(), f)"
   ]
  },
  {
   "cell_type": "markdown",
   "metadata": {},
   "source": [
    "# Check data"
   ]
  },
  {
   "cell_type": "code",
   "execution_count": null,
   "metadata": {
    "ExecuteTime": {
     "end_time": "2020-01-06T06:22:37.214646Z",
     "start_time": "2020-01-06T06:22:34.186Z"
    },
    "scrolled": false
   },
   "outputs": [],
   "source": [
    "print(\"Text:\")\n",
    "print(text)\n",
    "print()\n",
    "\n",
    "print(\"Melspectrogram:\")\n",
    "plt.figure(figsize=(16, 4))\n",
    "plt.imshow(melspec.detach().cpu().numpy(),\n",
    "           aspect='auto',\n",
    "           origin='bottom',\n",
    "           interpolation='none')\n",
    "plt.show()\n",
    "print()\n",
    "\n",
    "print(\"Alignments:\")\n",
    "F = torch.mean(torch.max(alignments, dim=-1)[0], dim=-1)\n",
    "fig, axes = plt.subplots(6, 2, figsize=(20,60))\n",
    "for i in range(6):\n",
    "    for j in [0, 1]:\n",
    "        axes[i, j].imshow(alignments[i, j].detach().cpu().numpy().T,\n",
    "                          aspect='auto',\n",
    "                          origin='bottom',\n",
    "                          interpolation='none')\n",
    "        axes[i, j].set_title(f'Layer: {i} / Head: {j} / F: {F[i,j]}', fontsize=15)\n",
    "\n",
    "plt.show()"
   ]
  }
 ],
 "metadata": {
  "kernelspec": {
   "display_name": "Python 3",
   "language": "python",
   "name": "python3"
  },
  "language_info": {
   "codemirror_mode": {
    "name": "ipython",
    "version": 3
   },
   "file_extension": ".py",
   "mimetype": "text/x-python",
   "name": "python",
   "nbconvert_exporter": "python",
   "pygments_lexer": "ipython3",
   "version": "3.7.5"
  },
  "varInspector": {
   "cols": {
    "lenName": 16,
    "lenType": 16,
    "lenVar": 40
   },
   "kernels_config": {
    "python": {
     "delete_cmd_postfix": "",
     "delete_cmd_prefix": "del ",
     "library": "var_list.py",
     "varRefreshCmd": "print(var_dic_list())"
    },
    "r": {
     "delete_cmd_postfix": ") ",
     "delete_cmd_prefix": "rm(",
     "library": "var_list.r",
     "varRefreshCmd": "cat(var_dic_list()) "
    }
   },
   "types_to_exclude": [
    "module",
    "function",
    "builtin_function_or_method",
    "instance",
    "_Feature"
   ],
   "window_display": false
  }
 },
 "nbformat": 4,
 "nbformat_minor": 2
}
